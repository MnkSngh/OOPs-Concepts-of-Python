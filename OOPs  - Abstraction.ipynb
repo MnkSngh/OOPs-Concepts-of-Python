{
 "cells": [
  {
   "cell_type": "markdown",
   "id": "a724333e",
   "metadata": {},
   "source": [
    "## Mayank Singh\n",
    "\n",
    "6, Dec, 2022"
   ]
  },
  {
   "cell_type": "markdown",
   "id": "285bfe0b",
   "metadata": {},
   "source": [
    "## Abstraction\n",
    "\n",
    "Abstraction in python is defined as a process of handling complexity by hiding unnecessary information from the user.\n",
    "\n",
    "In Python, abstraction can be achieved by using abstract classes and interfaces.\n",
    "An abstract class can be considered as a blueprint for other classes. It allows you to create a set of methods that must be created within any child classes built from the __abstract class__. __A class which contains one or more abstract methods is called an abstract class__. \n",
    "\n",
    "__An abstract method is a method that has a declaration but does not have an implementation__. While we are designing large functional units we use an abstract class. When we want to provide a common interface for different implementations of a component, we use an abstract class."
   ]
  },
  {
   "cell_type": "markdown",
   "id": "79abfb33",
   "metadata": {},
   "source": [
    "##### Why use Abstract Base Classes : \n",
    "By defining an abstract base class, you can define a common Application Program Interface(API) for a set of subclasses. This capability is especially useful in situations where a third-party is going to provide implementations, such as with plugins, but can also help you when working in a large team or with a large code-base where keeping all classes in your mind is difficult or not possible. \n",
    "  \n",
    "##### How Abstract Base classes work : \n",
    "By default, Python does not provide abstract classes. Python comes with a module that provides the base for defining Abstract Base classes(ABC) and that module name is ABC. ABC works by decorating methods of the base class as abstract and then registering concrete classes as implementations of the abstract base. A method becomes abstract when decorated with the keyword __@abstractmethod__."
   ]
  },
  {
   "cell_type": "code",
   "execution_count": 1,
   "id": "a65369fd",
   "metadata": {},
   "outputs": [],
   "source": [
    "from abc import ABC,abstractmethod\n",
    "class BankApp(ABC):\n",
    "\n",
    "    def database(self):\n",
    "        print('connected to database')\n",
    "\n",
    "    @abstractmethod\n",
    "    def security(self):\n",
    "        pass\n",
    "\n",
    "    @abstractmethod\n",
    "    def display(self):\n",
    "        pass\n"
   ]
  },
  {
   "cell_type": "code",
   "execution_count": 2,
   "id": "69933a54",
   "metadata": {},
   "outputs": [],
   "source": [
    "class MobileApp(BankApp):\n",
    "\n",
    "    def mobile_login(self):\n",
    "        print('login into mobile')\n",
    "\n",
    "    def security(self):\n",
    "        print('mobile security')\n",
    "\n",
    "    def display(self):\n",
    "        print('display')"
   ]
  },
  {
   "cell_type": "code",
   "execution_count": 3,
   "id": "489f1541",
   "metadata": {},
   "outputs": [],
   "source": [
    "mob = MobileApp()"
   ]
  },
  {
   "cell_type": "code",
   "execution_count": 4,
   "id": "540c8374",
   "metadata": {},
   "outputs": [
    {
     "name": "stdout",
     "output_type": "stream",
     "text": [
      "mobile security\n"
     ]
    }
   ],
   "source": [
    "mob.security()"
   ]
  },
  {
   "cell_type": "code",
   "execution_count": 5,
   "id": "27a5a00e",
   "metadata": {},
   "outputs": [
    {
     "ename": "TypeError",
     "evalue": "Can't instantiate abstract class BankApp with abstract methods display, security",
     "output_type": "error",
     "traceback": [
      "\u001b[1;31m---------------------------------------------------------------------------\u001b[0m",
      "\u001b[1;31mTypeError\u001b[0m                                 Traceback (most recent call last)",
      "Input \u001b[1;32mIn [5]\u001b[0m, in \u001b[0;36m<cell line: 1>\u001b[1;34m()\u001b[0m\n\u001b[1;32m----> 1\u001b[0m obj \u001b[38;5;241m=\u001b[39m \u001b[43mBankApp\u001b[49m\u001b[43m(\u001b[49m\u001b[43m)\u001b[49m\n",
      "\u001b[1;31mTypeError\u001b[0m: Can't instantiate abstract class BankApp with abstract methods display, security"
     ]
    }
   ],
   "source": [
    "## Abstract class does not have the capability to create object\n",
    "obj = BankApp()"
   ]
  },
  {
   "cell_type": "code",
   "execution_count": null,
   "id": "134d9101",
   "metadata": {},
   "outputs": [],
   "source": []
  }
 ],
 "metadata": {
  "kernelspec": {
   "display_name": "Python 3 (ipykernel)",
   "language": "python",
   "name": "python3"
  },
  "language_info": {
   "codemirror_mode": {
    "name": "ipython",
    "version": 3
   },
   "file_extension": ".py",
   "mimetype": "text/x-python",
   "name": "python",
   "nbconvert_exporter": "python",
   "pygments_lexer": "ipython3",
   "version": "3.10.4"
  }
 },
 "nbformat": 4,
 "nbformat_minor": 5
}
