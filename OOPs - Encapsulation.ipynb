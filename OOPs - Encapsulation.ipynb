{
 "cells": [
  {
   "cell_type": "markdown",
   "id": "82e28aae",
   "metadata": {},
   "source": [
    "## Power of Object/Object creation"
   ]
  },
  {
   "cell_type": "markdown",
   "id": "e04163e0",
   "metadata": {},
   "source": [
    "The creation of objects gives object the power to access all the attributes and methods of the class to which object belongs to. Any attribute/method not created in the class can not be accessed and python gives an error. Refer ex below as illustration of the concept"
   ]
  },
  {
   "cell_type": "code",
   "execution_count": 1,
   "id": "e4790bd8",
   "metadata": {},
   "outputs": [],
   "source": [
    "class SamplezClass():\n",
    "    def __init__(self):\n",
    "        self.name = 'Mayank'\n",
    "        self.gender = 'Male'\n",
    "    def testfun(self):\n",
    "        print('This code is for testing the call of function')\n",
    "s=SamplezClass() # object created"
   ]
  },
  {
   "cell_type": "code",
   "execution_count": 2,
   "id": "b2070dd2",
   "metadata": {},
   "outputs": [
    {
     "name": "stdout",
     "output_type": "stream",
     "text": [
      "Mayank\n",
      "Male\n",
      "This code is for testing the call of function\n",
      "None\n"
     ]
    }
   ],
   "source": [
    "## object \"s\" has the power to access the attributes as well as function of the class\n",
    "print(s.name)\n",
    "print(s.gender)\n",
    "print(s.testfun())"
   ]
  },
  {
   "cell_type": "code",
   "execution_count": 3,
   "id": "2ab497c8",
   "metadata": {},
   "outputs": [
    {
     "ename": "AttributeError",
     "evalue": "'SamplezClass' object has no attribute 'age'",
     "output_type": "error",
     "traceback": [
      "\u001b[1;31m---------------------------------------------------------------------------\u001b[0m",
      "\u001b[1;31mAttributeError\u001b[0m                            Traceback (most recent call last)",
      "Input \u001b[1;32mIn [3]\u001b[0m, in \u001b[0;36m<cell line: 2>\u001b[1;34m()\u001b[0m\n\u001b[0;32m      1\u001b[0m \u001b[38;5;66;03m# but if we try to access anything not created inside the class, python throws error\u001b[39;00m\n\u001b[1;32m----> 2\u001b[0m \u001b[43ms\u001b[49m\u001b[38;5;241;43m.\u001b[39;49m\u001b[43mage\u001b[49m\n",
      "\u001b[1;31mAttributeError\u001b[0m: 'SamplezClass' object has no attribute 'age'"
     ]
    }
   ],
   "source": [
    "# but if we try to access anything not created inside the class, python throws error\n",
    "s.age"
   ]
  },
  {
   "cell_type": "markdown",
   "id": "063d8246",
   "metadata": {},
   "source": [
    "#### Creation of attribute is possible from outside the class"
   ]
  },
  {
   "cell_type": "code",
   "execution_count": 4,
   "id": "a0147222",
   "metadata": {},
   "outputs": [
    {
     "name": "stdout",
     "output_type": "stream",
     "text": [
      "20\n"
     ]
    }
   ],
   "source": [
    "s.age = 20\n",
    "print(s.age)"
   ]
  },
  {
   "cell_type": "markdown",
   "id": "3848620f",
   "metadata": {},
   "source": [
    "## Reference Variables\n",
    "- Reference variables hold the objects\n",
    "- We can create objects without reference variable as well\n",
    "- An object can have multiple reference variables\n",
    "- Assigning a new reference variable to an existing object does not create a new object"
   ]
  },
  {
   "cell_type": "markdown",
   "id": "be13f035",
   "metadata": {},
   "source": [
    "#### A - Reference varibale hold the object/s\n",
    "when creating object of the class for eg. __s = SamplezClass()__, here __s__ is not the object. Till now we are thinking __s__ to be object, but in fact __s__ contains the reference/address of the object created using __SamplezClass__. That's why the heading says ref variable __s__ holds the object/s and it __is not__ the object "
   ]
  },
  {
   "cell_type": "markdown",
   "id": "0cc9992c",
   "metadata": {},
   "source": [
    "#### B - We can create create objects without reference variable as well\n",
    "Object creation is possible without any variable as well.\n",
    "__SamplezClass()__ is valid syntax to create object of the class __SamplezClass__"
   ]
  },
  {
   "cell_type": "code",
   "execution_count": 5,
   "id": "527bd06b",
   "metadata": {},
   "outputs": [
    {
     "data": {
      "text/plain": [
       "<__main__.SamplezClass at 0x28e21c8f7c0>"
      ]
     },
     "execution_count": 5,
     "metadata": {},
     "output_type": "execute_result"
    }
   ],
   "source": [
    "# object without a reference\n",
    "class SamplezClass():\n",
    "    def __init__(self):\n",
    "        self.name = 'Mayank'\n",
    "        self.gender = 'Male'\n",
    "    def testfun(self):\n",
    "        print('This code is for testing the call of function')\n",
    "SamplezClass() # object created"
   ]
  },
  {
   "cell_type": "markdown",
   "id": "e1a1f743",
   "metadata": {},
   "source": [
    "#### C - An object can have multiple reference variables\n",
    " - p = Person()\n",
    " now we can have another object using previous refe var __p__, eg. below:\n",
    " p = q, __q__ is a valid ref variable of object created for class __Person__."
   ]
  },
  {
   "cell_type": "code",
   "execution_count": 6,
   "id": "7e5e8d4c",
   "metadata": {},
   "outputs": [],
   "source": [
    "class Person:\n",
    "\n",
    "  def __init__(self):\n",
    "    self.name = 'nitish'\n",
    "    self.gender = 'male'\n",
    "\n",
    "p = Person()\n",
    "q = p"
   ]
  },
  {
   "cell_type": "markdown",
   "id": "34a217d3",
   "metadata": {},
   "source": [
    "#### D - Assigning a new reference variable to an existing object does not create a new object\n",
    "Whne in the above description, creating __p__ as new ref varibale, does not mean we have created new object. It only means that we have created multiple ref variables of the same object __SamplezClass__. And that's why __id__ of the ref variable is same. Making changes to any of the ref variables, affects the other ref varibale as well."
   ]
  },
  {
   "cell_type": "code",
   "execution_count": 7,
   "id": "229aebba",
   "metadata": {},
   "outputs": [
    {
     "name": "stdout",
     "output_type": "stream",
     "text": [
      "2809476713920\n",
      "2809476713920\n"
     ]
    }
   ],
   "source": [
    "print(id(p))\n",
    "print(id(q))"
   ]
  },
  {
   "cell_type": "code",
   "execution_count": 8,
   "id": "3c5282f9",
   "metadata": {},
   "outputs": [
    {
     "name": "stdout",
     "output_type": "stream",
     "text": [
      "nitish\n",
      "nitish\n",
      "ankit\n",
      "ankit\n"
     ]
    }
   ],
   "source": [
    "## Making changes to any of the ref variables, affects the other ref varibale as well.\n",
    "print(p.name)\n",
    "print(q.name)\n",
    "q.name = 'ankit'\n",
    "print(q.name)\n",
    "print(p.name)"
   ]
  },
  {
   "cell_type": "markdown",
   "id": "72ccad73",
   "metadata": {},
   "source": [
    "## Pass/call by reference\n",
    "__Python is neither call-by-value nor call-by-reference. It is call-by-sharing (also known as “call-by-object” or “call-by-object-sharing”)__ But we can use it as Pass by reference by some means.\n",
    "By reference means that the argument you’re passing to the function is a reference to a variable that already exists in memory rather than an independent copy of that variable.\n",
    "__OR__\n",
    "Pass by reference means that you have to pass the function(reference) to a variable which refers that the variable already exists in memory. "
   ]
  },
  {
   "cell_type": "code",
   "execution_count": 13,
   "id": "e169b6d3",
   "metadata": {},
   "outputs": [
    {
     "name": "stdout",
     "output_type": "stream",
     "text": [
      "Hi my name is nitish and I am a male\n"
     ]
    }
   ],
   "source": [
    "class Person:\n",
    "\n",
    "    def __init__(self,name,gender):\n",
    "        self.name = name\n",
    "        self.gender = gender\n",
    "\n",
    "# outside the class -> Another function\n",
    "def greet(Person):\n",
    "    print('Hi my name is',Person.name,'and I am a',Person.gender)\n",
    "#     p1 = Person('ankit','male')\n",
    "#     return p1\n",
    "\n",
    "p = Person('nitish','male') # creating object of class Person\n",
    "x = greet(p) # passing greet function the object(refernece) of class Person. This will result in printing \n",
    "# \"Hi my name is nitish and I am a male\" as ref (p) passed to greet function."
   ]
  },
  {
   "cell_type": "code",
   "execution_count": 15,
   "id": "cf2c7cb3",
   "metadata": {},
   "outputs": [
    {
     "name": "stdout",
     "output_type": "stream",
     "text": [
      "Hi my name is nitish and I am a male\n"
     ]
    }
   ],
   "source": [
    "## Important point to be noted - in the above code we passed ___Person__ and in the below code we passed __p__, but the \n",
    "## output is same because we are passing reference (address) of the object indirectly using different objects (p and Person).\n",
    "class Person:\n",
    "\n",
    "    def __init__(self,name,gender):\n",
    "        self.name = name\n",
    "        self.gender = gender\n",
    "\n",
    "# outside the class -> Another function\n",
    "def greet(p):\n",
    "    print('Hi my name is',p.name,'and I am a',p.gender)\n",
    "p = Person('nitish','male') # creating object of class Person\n",
    "x = greet(p)"
   ]
  },
  {
   "cell_type": "markdown",
   "id": "e3a65096",
   "metadata": {},
   "source": [
    "#### A function can take object as argument, or can retrun object as ouput:"
   ]
  },
  {
   "cell_type": "code",
   "execution_count": 16,
   "id": "a10b5a60",
   "metadata": {},
   "outputs": [
    {
     "name": "stdout",
     "output_type": "stream",
     "text": [
      "Hi my name is nitish and I am a male\n",
      "ankit\n",
      "male\n"
     ]
    }
   ],
   "source": [
    "class Person:\n",
    "\n",
    "    def __init__(self,name,gender):\n",
    "        self.name = name\n",
    "        self.gender = gender\n",
    "\n",
    "# outside the class -> function\n",
    "def greet(person): ## taking object as argument\n",
    "    print('Hi my name is',person.name,'and I am a',person.gender)\n",
    "    p1 = Person('ankit','male') ## creating another object of calss inside the function\n",
    "    return p1\n",
    "\n",
    "p = Person('nitish','male')\n",
    "x = greet(p)\n",
    "## Returning object creating inside the function\n",
    "print(x.name)\n",
    "print(x.gender)"
   ]
  },
  {
   "cell_type": "markdown",
   "id": "0aff68e0",
   "metadata": {},
   "source": [
    "## Mutability of objects\n",
    "In technical programming terms, a mutable object is an object whose state can be modified after it is defined. And in python, objects are mutable. \n",
    "\n",
    "We can make make them immutable, if we want, but by default they are mutable"
   ]
  },
  {
   "cell_type": "code",
   "execution_count": 18,
   "id": "103abbbb",
   "metadata": {},
   "outputs": [
    {
     "name": "stdout",
     "output_type": "stream",
     "text": [
      "2809476694944\n",
      "2809476694944\n"
     ]
    }
   ],
   "source": [
    "class Person:\n",
    "\n",
    "    def __init__(self,name,gender):\n",
    "        self.name = name\n",
    "        self.gender = gender\n",
    "\n",
    "# outside the class -> Another function\n",
    "def greet(person):\n",
    "    person.name = 'ankit' ## changing the object value - mutating the object, proves that objects are mutable in python.\n",
    "    return person\n",
    "\n",
    "## the two ids will be same, as mutable objects points to the same memory address, but immutable don't.\n",
    "p = Person('nitish','male')\n",
    "print(id(p))\n",
    "p1 = greet(p)\n",
    "print(id(p1))"
   ]
  },
  {
   "cell_type": "markdown",
   "id": "973fdf96",
   "metadata": {},
   "source": [
    "## Instance Variable\n",
    "An instance variable is a varibale whose value is different for differnt objects created of the class."
   ]
  },
  {
   "cell_type": "code",
   "execution_count": 23,
   "id": "b0a58fe3",
   "metadata": {},
   "outputs": [],
   "source": [
    "## Creating two objects of the same class, changes the values of the varibales, hence they are called instance variable.\n",
    "class Person:\n",
    "    def __init__(self,name,gender):\n",
    "        self.name = name\n",
    "        self.gender = gender     \n",
    "w1 = Person('Mayank', 20)\n",
    "w2 = Person('Maya', 21)"
   ]
  },
  {
   "cell_type": "code",
   "execution_count": 24,
   "id": "6dcb31a6",
   "metadata": {},
   "outputs": [
    {
     "data": {
      "text/plain": [
       "20"
      ]
     },
     "execution_count": 24,
     "metadata": {},
     "output_type": "execute_result"
    }
   ],
   "source": [
    "w1.gender"
   ]
  },
  {
   "cell_type": "code",
   "execution_count": 25,
   "id": "58390750",
   "metadata": {},
   "outputs": [
    {
     "data": {
      "text/plain": [
       "'Mayank'"
      ]
     },
     "execution_count": 25,
     "metadata": {},
     "output_type": "execute_result"
    }
   ],
   "source": [
    "w1.name"
   ]
  },
  {
   "cell_type": "code",
   "execution_count": 26,
   "id": "36eef3ce",
   "metadata": {},
   "outputs": [
    {
     "data": {
      "text/plain": [
       "21"
      ]
     },
     "execution_count": 26,
     "metadata": {},
     "output_type": "execute_result"
    }
   ],
   "source": [
    "w2.gender"
   ]
  },
  {
   "cell_type": "code",
   "execution_count": 27,
   "id": "66890e10",
   "metadata": {},
   "outputs": [
    {
     "data": {
      "text/plain": [
       "'Maya'"
      ]
     },
     "execution_count": 27,
     "metadata": {},
     "output_type": "execute_result"
    }
   ],
   "source": [
    "w2.name"
   ]
  },
  {
   "cell_type": "markdown",
   "id": "27624006",
   "metadata": {},
   "source": [
    "## Encapsulation"
   ]
  },
  {
   "cell_type": "markdown",
   "id": "5cd5a87f",
   "metadata": {},
   "source": [
    "Encapsulation is a mechanism of wrapping the data (attributes/instance variables) and code acting on the data (methods) together as a single unit. In encapsulation, the variables of a class will be hidden from other classes, and can be accessed only through the methods of their current class.\n",
    "\n",
    "In simple terms, if the coder wants that attributes of the class and methods of the class should not be visible after creating the object of the class, the coder can encapsulate the attributes and methods.\n",
    "\n",
    "Encapsulation can be done/implemented by applying __ __(double underscore) before the particular attribute/s and method/s.__ for eg.__ __attribute_name__, __ __method_name__. This is known as making attributes and methods __private__."
   ]
  },
  {
   "cell_type": "markdown",
   "id": "4d60e76d",
   "metadata": {},
   "source": [
    "It is always advisable/best parctice to atleast make the attribute/s private or encapsulate them, so that no other person can change the value of the attributes from outside the class.\n",
    "\n",
    "But in case, it is required to do so, python provides the option of creating getter and setter method.\n",
    "\n",
    "__getter_method__ is used/created to see the value of the private attributes.\n",
    "\n",
    "__setter_method__ is used/created to set/change the value private attributes."
   ]
  },
  {
   "cell_type": "code",
   "execution_count": 5,
   "id": "a11f7e73",
   "metadata": {},
   "outputs": [],
   "source": [
    "class Atm:\n",
    "\n",
    "    # constructor(special function)->superpower -> \n",
    "    def __init__(self):\n",
    "        print(id(self))\n",
    "        self.pin = ''\n",
    "        self.__balance = 0 ## Making attribute private/encapsulating attribute\n",
    "        #self.menu()\n",
    "\n",
    "    def get_balance(self):## getter method\n",
    "        return self.__balance\n",
    "\n",
    "    def set_balance(self,new_value): # setter method\n",
    "        if type(new_value) == int:\n",
    "            self.__balance = new_value\n",
    "        else:\n",
    "            print('beta bahot maarenge')\n",
    "\n",
    "    def __menu(self): ## making method private/encapsulating mathod\n",
    "        user_input = input(\"\"\"\n",
    "        Hi how can I help you?\n",
    "        1. Press 1 to create pin\n",
    "        2. Press 2 to change pin\n",
    "        3. Press 3 to check balance\n",
    "        4. Press 4 to withdraw\n",
    "        5. Anything else to exit\n",
    "        \"\"\")\n",
    "\n",
    "        if user_input == '1':\n",
    "            self.create_pin()\n",
    "        elif user_input == '2':\n",
    "            self.change_pin()\n",
    "        elif user_input == '3':\n",
    "            self.check_balance()\n",
    "        elif user_input == '4':\n",
    "            self.withdraw()\n",
    "        else:\n",
    "            exit()\n",
    "\n",
    "    def create_pin(self):\n",
    "        user_pin = input('enter your pin')\n",
    "        self.pin = user_pin\n",
    "\n",
    "        user_balance = int(input('enter balance'))\n",
    "        self.__balance = user_balance\n",
    "\n",
    "        print('pin created successfully')\n",
    "\n",
    "    def change_pin(self):\n",
    "        old_pin = input('enter old pin')\n",
    "\n",
    "        if old_pin == self.pin:\n",
    "            # let him change the pin\n",
    "            new_pin = input('enter new pin')\n",
    "            self.pin = new_pin\n",
    "            print('pin change successful')\n",
    "        else:\n",
    "            print('nai karne de sakta re baba')\n",
    "\n",
    "    def check_balance(self):\n",
    "        user_pin = input('enter your pin')\n",
    "        if user_pin == self.pin:\n",
    "            print('your balance is ',self.__balance)\n",
    "        else:\n",
    "            print('chal nikal yahan se')\n",
    "\n",
    "    def withdraw(self):\n",
    "        user_pin = input('enter the pin')\n",
    "        if user_pin == self.pin:\n",
    "            # allow to withdraw\n",
    "            amount = int(input('enter the amount'))\n",
    "            if amount <= self.__balance:\n",
    "                self.__balance = self.__balance - amount\n",
    "                print('withdrawl successful.balance is',self.__balance)\n",
    "            else:\n",
    "                print('abe garib')\n",
    "        else:\n",
    "            print('sale chor')"
   ]
  },
  {
   "cell_type": "code",
   "execution_count": 6,
   "id": "45544afe",
   "metadata": {},
   "outputs": [
    {
     "name": "stdout",
     "output_type": "stream",
     "text": [
      "1601418736064\n"
     ]
    }
   ],
   "source": [
    "A = Atm() ## created object"
   ]
  },
  {
   "attachments": {
    "image.png": {
     "image/png": "[encoded data removed]"
    }
   },
   "cell_type": "markdown",
   "id": "a623fc72",
   "metadata": {},
   "source": [
    "And hence now if we try to access the private method/attributes, they are not part of suggestions and no one would dream that class has those attribute/methods.\n",
    "\n",
    "![image.png](attachment:image.png)"
   ]
  },
  {
   "cell_type": "code",
   "execution_count": 7,
   "id": "1f32425b",
   "metadata": {},
   "outputs": [],
   "source": [
    "## Important point to be noted: In case coder wants to change the value of attribute/s from outside the class of private varibales\n",
    "## without using setter method, it can be done using the syntax \" _class name__attribute name\"."
   ]
  },
  {
   "cell_type": "markdown",
   "id": "db252442",
   "metadata": {},
   "source": [
    "## Instance variable v.s. Static variable"
   ]
  },
  {
   "cell_type": "markdown",
   "id": "4631aacc",
   "metadata": {},
   "source": [
    "1. Instance variables are of object, whereas static varibale are of class.\n",
    "2. Instance variable are declared inside the constructor, whereas static variable are declared outside all methods within the class\n",
    "3. Intance variables are called using oject name (self), whereas static variable are called using calss name."
   ]
  },
  {
   "cell_type": "code",
   "execution_count": 8,
   "id": "31113589",
   "metadata": {},
   "outputs": [
    {
     "name": "stdout",
     "output_type": "stream",
     "text": [
      "Maya\n"
     ]
    }
   ],
   "source": [
    "class static:\n",
    "    \n",
    "    name = 'Mayank' ## static varibale\n",
    "    def __init__(self):\n",
    "        self.name = 'Maya' ## instance variable\n",
    "        print(self.name)\n",
    "s = static()"
   ]
  },
  {
   "cell_type": "code",
   "execution_count": 9,
   "id": "39ed8b00",
   "metadata": {},
   "outputs": [
    {
     "data": {
      "text/plain": [
       "'Mayank'"
      ]
     },
     "execution_count": 9,
     "metadata": {},
     "output_type": "execute_result"
    }
   ],
   "source": [
    "static.name ## calling static varibale using class name"
   ]
  },
  {
   "cell_type": "code",
   "execution_count": 10,
   "id": "961f5098",
   "metadata": {},
   "outputs": [
    {
     "data": {
      "text/plain": [
       "'Maya'"
      ]
     },
     "execution_count": 10,
     "metadata": {},
     "output_type": "execute_result"
    }
   ],
   "source": [
    "s.name ## calling intance varibale using object name"
   ]
  },
  {
   "cell_type": "code",
   "execution_count": 22,
   "id": "04706d24",
   "metadata": {},
   "outputs": [],
   "source": [
    "## more example:\n",
    "\n",
    "class Atm:\n",
    "\n",
    "    counter = 1 ## static variable\n",
    "\n",
    "    # constructor(special function)->superpower -> \n",
    "    def __init__(self):\n",
    "        print(id(self))\n",
    "        self.pin = ''\n",
    "        self.__balance = 0\n",
    "        ## static variable use inside the class\n",
    "        self.cid = Atm.counter\n",
    "        Atm.counter = Atm.counter + 1\n",
    "        #self.menu()\n",
    "\n",
    "    def set_balance(self,new_value):\n",
    "        if type(new_value) == int:\n",
    "            self.__balance = new_value\n",
    "        else:\n",
    "            print('beta bahot maarenge')\n",
    "\n",
    "    def __menu(self):\n",
    "        user_input = input(\"\"\"\n",
    "        Hi how can I help you?\n",
    "        1. Press 1 to create pin\n",
    "        2. Press 2 to change pin\n",
    "        3. Press 3 to check balance\n",
    "        4. Press 4 to withdraw\n",
    "        5. Anything else to exit\n",
    "        \"\"\")\n",
    "\n",
    "        if user_input == '1':\n",
    "            self.create_pin()\n",
    "        elif user_input == '2':\n",
    "            self.change_pin()\n",
    "        elif user_input == '3':\n",
    "            self.check_balance()\n",
    "        elif user_input == '4':\n",
    "            self.withdraw()\n",
    "        else:\n",
    "            exit()\n",
    "\n",
    "    def create_pin(self):\n",
    "        user_pin = input('enter your pin')\n",
    "        self.pin = user_pin\n",
    "\n",
    "        user_balance = int(input('enter balance'))\n",
    "        self.__balance = user_balance\n",
    "\n",
    "        print('pin created successfully')\n",
    "\n",
    "    def change_pin(self):\n",
    "        old_pin = input('enter old pin')\n",
    "        if old_pin == self.pin:\n",
    "        # let him change the pin\n",
    "            new_pin = input('enter new pin')\n",
    "            self.pin = new_pin\n",
    "            print('pin change successful')\n",
    "        else:\n",
    "            print('nai karne de sakta re baba')\n",
    "\n",
    "    def check_balance(self):\n",
    "        user_pin = input('enter your pin')\n",
    "        if user_pin == self.pin:\n",
    "            print('your balance is ',self.__balance)\n",
    "        else:\n",
    "            print('chal nikal yahan se')\n",
    "\n",
    "    def withdraw(self):\n",
    "        user_pin = input('enter the pin')\n",
    "        if user_pin == self.pin:\n",
    "            # allow to withdraw\n",
    "            amount = int(input('enter the amount'))\n",
    "            if amount <= self.__balance:\n",
    "                self.__balance = self.__balance - amount\n",
    "                print('withdrawl successful.balance is',self.__balance)\n",
    "            else:\n",
    "                print('abe garib')\n",
    "        else:\n",
    "            print('sale chor')"
   ]
  },
  {
   "cell_type": "code",
   "execution_count": 23,
   "id": "0a825e0a",
   "metadata": {},
   "outputs": [
    {
     "name": "stdout",
     "output_type": "stream",
     "text": [
      "1601418937872\n"
     ]
    }
   ],
   "source": [
    "c1 = Atm()"
   ]
  },
  {
   "cell_type": "code",
   "execution_count": 24,
   "id": "68036a15",
   "metadata": {},
   "outputs": [
    {
     "name": "stdout",
     "output_type": "stream",
     "text": [
      "1601418939744\n"
     ]
    }
   ],
   "source": [
    "c2 = Atm()"
   ]
  },
  {
   "cell_type": "code",
   "execution_count": 25,
   "id": "b87b9b3b",
   "metadata": {},
   "outputs": [
    {
     "name": "stdout",
     "output_type": "stream",
     "text": [
      "1601418946608\n"
     ]
    }
   ],
   "source": [
    "c3 = Atm()"
   ]
  },
  {
   "cell_type": "code",
   "execution_count": 26,
   "id": "3c5d506d",
   "metadata": {},
   "outputs": [
    {
     "data": {
      "text/plain": [
       "1"
      ]
     },
     "execution_count": 26,
     "metadata": {},
     "output_type": "execute_result"
    }
   ],
   "source": [
    "c1.cid"
   ]
  },
  {
   "cell_type": "code",
   "execution_count": 27,
   "id": "1584e190",
   "metadata": {},
   "outputs": [
    {
     "data": {
      "text/plain": [
       "2"
      ]
     },
     "execution_count": 27,
     "metadata": {},
     "output_type": "execute_result"
    }
   ],
   "source": [
    "c2.cid"
   ]
  },
  {
   "cell_type": "code",
   "execution_count": 28,
   "id": "7a3598f8",
   "metadata": {},
   "outputs": [
    {
     "data": {
      "text/plain": [
       "3"
      ]
     },
     "execution_count": 28,
     "metadata": {},
     "output_type": "execute_result"
    }
   ],
   "source": [
    "c3.cid"
   ]
  },
  {
   "cell_type": "code",
   "execution_count": 29,
   "id": "3822fab8",
   "metadata": {},
   "outputs": [
    {
     "data": {
      "text/plain": [
       "4"
      ]
     },
     "execution_count": 29,
     "metadata": {},
     "output_type": "execute_result"
    }
   ],
   "source": [
    "Atm.counter"
   ]
  },
  {
   "cell_type": "markdown",
   "id": "a89bddc4",
   "metadata": {},
   "source": [
    "### Applying concept of encapsulation to static variable"
   ]
  },
  {
   "cell_type": "code",
   "execution_count": 30,
   "id": "ce469bd2",
   "metadata": {},
   "outputs": [],
   "source": [
    "## more example:\n",
    "\n",
    "class Atm:\n",
    "\n",
    "    __counter = 1 ## naking static variable as private\n",
    "\n",
    "    # constructor(special function)->superpower -> \n",
    "    def __init__(self):\n",
    "        print(id(self))\n",
    "        self.pin = ''\n",
    "        self.__balance = 0\n",
    "        self.cid = Atm.__counter\n",
    "        Atm.__counter = Atm.__counter + 1\n",
    "        #self.menu()\n",
    "\n",
    "    # utility functions\n",
    "    @staticmethod ## decorator - it is known as class method that does not require objects for accessing\n",
    "    def get_counter():\n",
    "        return Atm.__counter\n",
    "\n",
    "\n",
    "    def get_balance(self):\n",
    "        return self.__balance\n",
    "\n",
    "    def set_balance(self,new_value):\n",
    "        if type(new_value) == int:\n",
    "            self.__balance = new_value\n",
    "        else:\n",
    "            print('beta bahot maarenge')\n",
    "\n",
    "    def __menu(self):\n",
    "        user_input = input(\"\"\"\n",
    "        Hi how can I help you?\n",
    "        1. Press 1 to create pin\n",
    "        2. Press 2 to change pin\n",
    "        3. Press 3 to check balance\n",
    "        4. Press 4 to withdraw\n",
    "        5. Anything else to exit\n",
    "        \"\"\")\n",
    "\n",
    "        if user_input == '1':\n",
    "            self.create_pin()\n",
    "        elif user_input == '2':\n",
    "            self.change_pin()\n",
    "        elif user_input == '3':\n",
    "            self.check_balance()\n",
    "        elif user_input == '4':\n",
    "            self.withdraw()\n",
    "        else:\n",
    "            exit()\n",
    "\n",
    "    def create_pin(self):\n",
    "        user_pin = input('enter your pin')\n",
    "        self.pin = user_pin\n",
    "\n",
    "        user_balance = int(input('enter balance'))\n",
    "        self.__balance = user_balance\n",
    "\n",
    "        print('pin created successfully')\n",
    "\n",
    "    def change_pin(self):\n",
    "        old_pin = input('enter old pin')\n",
    "        if old_pin == self.pin:\n",
    "        # let him change the pin\n",
    "            new_pin = input('enter new pin')\n",
    "            self.pin = new_pin\n",
    "            print('pin change successful')\n",
    "        else:\n",
    "            print('nai karne de sakta re baba')\n",
    "\n",
    "    def check_balance(self):\n",
    "        user_pin = input('enter your pin')\n",
    "        if user_pin == self.pin:\n",
    "            print('your balance is ',self.__balance)\n",
    "        else:\n",
    "            print('chal nikal yahan se')\n",
    "\n",
    "    def withdraw(self):\n",
    "        user_pin = input('enter the pin')\n",
    "        if user_pin == self.pin:\n",
    "            # allow to withdraw\n",
    "            amount = int(input('enter the amount'))\n",
    "            if amount <= self.__balance:\n",
    "                self.__balance = self.__balance - amount\n",
    "                print('withdrawl successful.balance is',self.__balance)\n",
    "            else:\n",
    "                print('abe garib')\n",
    "        else:\n",
    "            print('sale chor')"
   ]
  },
  {
   "cell_type": "code",
   "execution_count": null,
   "id": "dfee9be1",
   "metadata": {},
   "outputs": [],
   "source": []
  }
 ],
 "metadata": {
  "kernelspec": {
   "display_name": "Python 3 (ipykernel)",
   "language": "python",
   "name": "python3"
  },
  "language_info": {
   "codemirror_mode": {
    "name": "ipython",
    "version": 3
   },
   "file_extension": ".py",
   "mimetype": "text/x-python",
   "name": "python",
   "nbconvert_exporter": "python",
   "pygments_lexer": "ipython3",
   "version": "3.10.4"
  }
 },
 "nbformat": 4,
 "nbformat_minor": 5
}
